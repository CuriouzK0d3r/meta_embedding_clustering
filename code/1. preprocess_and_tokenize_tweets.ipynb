{
 "cells": [
  {
   "cell_type": "code",
   "execution_count": null,
   "metadata": {},
   "outputs": [],
   "source": [
    "from helper_functions import *"
   ]
  },
  {
   "cell_type": "code",
   "execution_count": null,
   "metadata": {
    "scrolled": true
   },
   "outputs": [],
   "source": [
    "# Read from saved Twitter data, preprocess, and extract metadata\n",
    "# The data is created by twitter_gatherer.py\n",
    "# see https://github.com/r0zetta/twitter_gather for details\n",
    "texts = []\n",
    "sns = []\n",
    "ids = []\n",
    "count = 0\n",
    "print(\"Reading raw twitter objects...\")\n",
    "filename = \"data/raw.json\"\n",
    "with open(filename, \"r\") as f:\n",
    "    for line in f:\n",
    "        count += 1\n",
    "        if count % 1000000 == 0:\n",
    "            print(\"Seen: \" + str(count) + \" captured: \" + str(len(texts)))\n",
    "        status = json.loads(line.strip())\n",
    "        text = status[\"text\"]\n",
    "        sn = status[\"user\"][\"screen_name\"]\n",
    "        id_str = status[\"id_str\"]\n",
    "        lang = status[\"lang\"]\n",
    "        # Omit non-EN tweets\n",
    "        if lang != \"en\":\n",
    "            continue\n",
    "        # Omit retweets\n",
    "        if \"retweeted_status\" in status and status[\"retweeted_status\"] is not None:\n",
    "            continue\n",
    "        if len(text) > 20 and \"…\" not in text:\n",
    "            text = text.lower()\n",
    "            text = re.sub(r'(@\\S+)', '', text)\n",
    "            text = re.sub(r'(http\\S+)', '', text)\n",
    "            text = text.strip()\n",
    "            texts.append(text)\n",
    "            sns.append(sn)\n",
    "            ids.append(id_str)\n",
    "print(\"Found \" + str(len(texts)) + \" unique texts.\")"
   ]
  },
  {
   "cell_type": "code",
   "execution_count": null,
   "metadata": {},
   "outputs": [],
   "source": [
    "# Tokenize extracted data and save all files for use later\n",
    "all_sns = []\n",
    "all_ids = []\n",
    "all_tokens = []\n",
    "all_tokens_sw = []\n",
    "all_texts = []\n",
    "seen = set()\n",
    "min_tokens = 5\n",
    "for i, text in enumerate(texts):\n",
    "    if text in seen:\n",
    "        continue\n",
    "    seen.add(text)\n",
    "    sn = sns[i]\n",
    "    id_str = ids[i]\n",
    "    if i % 100000 == 0:\n",
    "        print(str(i) + \"/\" + str(len(texts)) + \"/\" + str(len(all_tokens)))\n",
    "    clean_tokens, clean_tokens_with_sw = custom_tokenize(text)\n",
    "    # Keep tweets containing a minimum number of tokens after\n",
    "    # preprocessing and tokenization\n",
    "    if len(clean_tokens_with_sw) >= min_tokens:\n",
    "        all_sns.append(sn)\n",
    "        all_ids.append(id_str)\n",
    "        all_tokens.append(clean_tokens)\n",
    "        all_tokens_sw.append(clean_tokens_with_sw)\n",
    "        all_texts.append(text)\n",
    "print(len(all_texts))\n",
    "if not os.path.exists(\"preprocessed\"):\n",
    "    os.makedirs(\"preprocessed\")\n",
    "save_json(all_sns, \"preprocessed/sns.json\")\n",
    "save_json(all_ids, \"preprocessed/ids.json\")\n",
    "save_json(all_tokens, \"preprocessed/tokens.json\")\n",
    "save_json(all_tokens_sw, \"preprocessed/tokens_sw.json\")\n",
    "save_json(all_texts, \"preprocessed/texts.json\")\n",
    "print(\"Done. Now execute encode_all_vectors.ipynb\")"
   ]
  },
  {
   "cell_type": "code",
   "execution_count": null,
   "metadata": {},
   "outputs": [],
   "source": []
  }
 ],
 "metadata": {
  "kernelspec": {
   "display_name": "Python 3",
   "language": "python",
   "name": "python3"
  },
  "language_info": {
   "codemirror_mode": {
    "name": "ipython",
    "version": 3
   },
   "file_extension": ".py",
   "mimetype": "text/x-python",
   "name": "python",
   "nbconvert_exporter": "python",
   "pygments_lexer": "ipython3",
   "version": "3.7.3"
  }
 },
 "nbformat": 4,
 "nbformat_minor": 2
}
